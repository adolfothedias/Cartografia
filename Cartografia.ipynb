{
 "cells": [
  {
   "cell_type": "code",
   "execution_count": 1,
   "metadata": {},
   "outputs": [
    {
     "name": "stdout",
     "output_type": "stream",
     "text": [
      "Application state:\n",
      "QGIS_PREFIX_PATH env var:\t\tC:/OSGEO4~1/apps/qgis\n",
      "Prefix:\t\tC:/OSGEO4~1/apps/qgis\n",
      "Plugin Path:\t\tC:/OSGEO4~1/apps/qgis/plugins\n",
      "Package Data Path:\tC:/OSGEO4~1/apps/qgis/.\n",
      "Active Theme Name:\t\n",
      "Active Theme Path:\tC:/OSGEO4~1/apps/qgis/./resources/themes\\\\icons/\n",
      "Default Theme Path:\t:/images/themes/default/\n",
      "SVG Search Paths:\tC:/OSGEO4~1/apps/qgis/./svg/\n",
      "\t\tC:/Users/Asus/AppData/Roaming/python3\\profiles\\default/svg/\n",
      "User DB Path:\tC:/OSGEO4~1/apps/qgis/./resources/qgis.db\n",
      "Auth DB Path:\tC:/Users/Asus/AppData/Roaming/python3\\profiles\\default/qgis-auth.db\n",
      "\n"
     ]
    }
   ],
   "source": [
    "import os\n",
    "import sys\n",
    "from osgeo import ogr\n",
    "from qgis.core import *\n",
    "from qgis.gui import *\n",
    "from qgis import processing\n",
    "\n",
    "from qgis.PyQt.QtGui import QColor, QImage\n",
    "from qgis.PyQt.QtCore import QSize, QBuffer, QIODevice\n",
    "\n",
    "qgs = QgsApplication([], False)\n",
    "qgs.initQgis()\n",
    "print(QgsApplication.showSettings())"
   ]
  },
  {
   "cell_type": "code",
   "execution_count": 2,
   "metadata": {},
   "outputs": [
    {
     "name": "stdout",
     "output_type": "stream",
     "text": [
      "Layer concelho loaded\n",
      "Layer distrito loaded\n",
      "Layer raa_central_concelho loaded\n",
      "Layer raa_central_ilha loaded\n",
      "Layer raa_ocidental_concelho loaded\n",
      "Layer raa_ocidental_ilha loaded\n",
      "Layer raa_oriental_concelho loaded\n",
      "Layer raa_oriental_ilha loaded\n",
      "Layer ram_concelho loaded\n",
      "Layer ram_ilha loaded\n",
      "Layer layer_styles loaded\n",
      "Layer confirmados_concelho loaded\n",
      "Layer confirmados_distrito_ilha loaded\n",
      "Layer situacao_epidemiologica loaded\n"
     ]
    }
   ],
   "source": [
    "covid_gpkg = \"covid-pt-2020-04-26.gpkg\"\n",
    "conn = ogr.Open(covid_gpkg)\n",
    "for i in conn:\n",
    "    vlayer = QgsVectorLayer(\"{}|layername={}\".format(covid_gpkg, i.GetName()), i.GetName(), \"ogr\")\n",
    "    if not vlayer.isValid():\n",
    "        print(\"Layer {} failed to load\".format(i.GetName()))\n",
    "    else:\n",
    "        QgsProject.instance().addMapLayer(vlayer)\n",
    "        print(\"Layer {} loaded\".format(i.GetName()))"
   ]
  },
  {
   "cell_type": "code",
   "execution_count": 3,
   "metadata": {
    "scrolled": true
   },
   "outputs": [],
   "source": [
    "distrito = QgsProject.instance().mapLayersByName('distrito')[0]\n",
    "concelho = QgsProject.instance().mapLayersByName('confirmados_concelho')[0]\n",
    "import matplotlib.pyplot as plt\n",
    "import numpy as np\n",
    "import io\n",
    "\n",
    "def print_graph(date,ii):\n",
    "    dic = {}\n",
    "    for c in concelho.getFeatures():\n",
    "        num = int(c[\"dico\"])\n",
    "        id = num/int(100)\n",
    "        id = int(id)\n",
    "        number = c[date]\n",
    "\n",
    "        if id not in dic:\n",
    "            if number == NULL:\n",
    "                dic[id] = 0\n",
    "            else :\n",
    "                if str(type(number)) == '<class \\'PyQt5.QtCore.QVariant\\'>':\n",
    "                    dic[id] = int(str(number))\n",
    "                else:\n",
    "                    dic[id] = number\n",
    "        else:\n",
    "            if number != NULL:\n",
    "                if str(type(number)) == '<class \\'PyQt5.QtCore.QVariant\\'>':\n",
    "                    dic[id] = dic[id] + int(str(number))\n",
    "                else:\n",
    "                    dic[id] = dic[id] + number\n",
    "\n",
    "    ind = 1\n",
    "    dic_index = {}\n",
    "    for d in distrito.getFeatures():\n",
    "        dic_index[ind] = d[\"distrito\"]\n",
    "        ind += 1\n",
    "\n",
    "    dist = {}\n",
    "    for d in distrito.getFeatures():\n",
    "        cases = list(dic_index.keys())[list(dic_index.values()).index(d[\"distrito\"])]\n",
    "        case = dic[int(cases)]\n",
    "        dist[d[\"distrito\"]] = case \n",
    "        #print(\"Em {} há {} caso(s) confirmados\".format(d[\"distrito\"],case))\n",
    "    \n",
    "    x = dist.keys()\n",
    "    y = dist.values()\n",
    "    plt.figure(figsize=(27, 8))\n",
    "    plt.scatter(x, y)\n",
    "    plt.title(\"Número de casos no dia \" + str(date))\n",
    "    string = '{}.png'.format(ii)\n",
    "    plt.savefig(string,format='png')\n",
    "    plt.ylim(0, 8000)\n",
    "    plt.plot()\n",
    "    plt.close()\n",
    "    "
   ]
  },
  {
   "cell_type": "code",
   "execution_count": 4,
   "metadata": {},
   "outputs": [
    {
     "name": "stdout",
     "output_type": "stream",
     "text": [
      "['24/03/2020', '25/03/2020', '26/03/2020', '27/03/2020', '28/03/2020', '29/03/2020', '30/03/2020', '31/03/2020', '01/04/2020', '02/04/2020', '03/04/2020', '04/04/2020', '05/04/2020', '06/04/2020', '07/04/2020', '08/04/2020', '09/04/2020', '10/04/2020', '11/04/2020', '12/04/2020', '13/04/2020', '14/04/2020', '15/04/2020', '16/04/2020', '17/04/2020', '18/04/2020', '19/04/2020', '20/04/2020', '21/04/2020', '22/04/2020', '23/04/2020', '24/04/2020', '25/04/2020', '26/04/2020']\n"
     ]
    }
   ],
   "source": [
    "import pandas as pd\n",
    "df = pd.read_csv(\"concelhos.csv\")\n",
    "cn = list(df)\n",
    "col_name = cn[3:36]\n",
    "col_name.append('26/04/2020')"
   ]
  },
  {
   "cell_type": "code",
   "execution_count": 5,
   "metadata": {},
   "outputs": [],
   "source": [
    "import imageio as io\n",
    "frame = ['{}.png'.format(i) for i in range(len(col_name))]\n",
    "ii = 0\n",
    "for i in col_name:\n",
    "    print_graph(i,ii)\n",
    "    ii +=1\n",
    "    \n",
    "render = []\n",
    "for ff in frame:\n",
    "    render.append(io.imread(ff))\n",
    "\n",
    "io.mimsave('evolution.gif', render, duration = 0.5)\n",
    "\n",
    "import os\n",
    "for i in frame:\n",
    "    os.remove(i)"
   ]
  }
 ],
 "metadata": {
  "kernelspec": {
   "display_name": "Python 3",
   "language": "python",
   "name": "python3"
  },
  "language_info": {
   "codemirror_mode": {
    "name": "ipython",
    "version": 3
   },
   "file_extension": ".py",
   "mimetype": "text/x-python",
   "name": "python",
   "nbconvert_exporter": "python",
   "pygments_lexer": "ipython3",
   "version": "3.7.0"
  }
 },
 "nbformat": 4,
 "nbformat_minor": 4
}
